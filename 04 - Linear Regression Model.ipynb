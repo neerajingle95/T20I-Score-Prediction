{
 "cells": [
  {
   "cell_type": "markdown",
   "id": "452a8fbf",
   "metadata": {},
   "source": [
    "# 1. Importing the libraries"
   ]
  },
  {
   "cell_type": "code",
   "execution_count": 1,
   "id": "62fed9a6",
   "metadata": {},
   "outputs": [
    {
     "data": {
      "text/html": [
       "<style>.container { width:100% !important; }</style>"
      ],
      "text/plain": [
       "<IPython.core.display.HTML object>"
      ]
     },
     "metadata": {},
     "output_type": "display_data"
    }
   ],
   "source": [
    "import pandas as pd\n",
    "import numpy as np\n",
    "from sklearn.model_selection import train_test_split\n",
    "from sklearn.linear_model import LinearRegression\n",
    "from sklearn.metrics import mean_absolute_error\n",
    "import pickle\n",
    "\n",
    "import warnings\n",
    "warnings.filterwarnings('ignore')\n",
    "\n",
    "pd.set_option('display.max_columns', None)\n",
    "pd.set_option('display.expand_frame_repr', False)\n",
    "pd.set_option('max_colwidth', -1)\n",
    "\n",
    "from IPython.display import display, HTML\n",
    "display(HTML(\"<style>.container { width:100% !important; }</style>\"))"
   ]
  },
  {
   "cell_type": "markdown",
   "id": "c2c64fa8",
   "metadata": {},
   "source": [
    "# 2. Loading the data"
   ]
  },
  {
   "cell_type": "code",
   "execution_count": 2,
   "id": "cdc5a77e",
   "metadata": {},
   "outputs": [
    {
     "data": {
      "text/html": [
       "<div>\n",
       "<style scoped>\n",
       "    .dataframe tbody tr th:only-of-type {\n",
       "        vertical-align: middle;\n",
       "    }\n",
       "\n",
       "    .dataframe tbody tr th {\n",
       "        vertical-align: top;\n",
       "    }\n",
       "\n",
       "    .dataframe thead th {\n",
       "        text-align: right;\n",
       "    }\n",
       "</style>\n",
       "<table border=\"1\" class=\"dataframe\">\n",
       "  <thead>\n",
       "    <tr style=\"text-align: right;\">\n",
       "      <th></th>\n",
       "      <th>id</th>\n",
       "      <th>innings</th>\n",
       "      <th>batting_team</th>\n",
       "      <th>bowling_team</th>\n",
       "      <th>overs</th>\n",
       "      <th>over</th>\n",
       "      <th>ball</th>\n",
       "      <th>total_runs</th>\n",
       "      <th>player_dismissed</th>\n",
       "      <th>total</th>\n",
       "      <th>total_score</th>\n",
       "      <th>total_wickets</th>\n",
       "      <th>prev_30_runs</th>\n",
       "      <th>prev_30_wickets</th>\n",
       "      <th>prev_30_dot_balls</th>\n",
       "      <th>prev_30_boundaries</th>\n",
       "    </tr>\n",
       "  </thead>\n",
       "  <tbody>\n",
       "    <tr>\n",
       "      <th>0</th>\n",
       "      <td>211028</td>\n",
       "      <td>1</td>\n",
       "      <td>England</td>\n",
       "      <td>Australia</td>\n",
       "      <td>0.1</td>\n",
       "      <td>0</td>\n",
       "      <td>1</td>\n",
       "      <td>0</td>\n",
       "      <td>0</td>\n",
       "      <td>179</td>\n",
       "      <td>0</td>\n",
       "      <td>0</td>\n",
       "      <td>0</td>\n",
       "      <td>0</td>\n",
       "      <td>1</td>\n",
       "      <td>0</td>\n",
       "    </tr>\n",
       "    <tr>\n",
       "      <th>1</th>\n",
       "      <td>211028</td>\n",
       "      <td>1</td>\n",
       "      <td>England</td>\n",
       "      <td>Australia</td>\n",
       "      <td>0.2</td>\n",
       "      <td>0</td>\n",
       "      <td>2</td>\n",
       "      <td>1</td>\n",
       "      <td>0</td>\n",
       "      <td>179</td>\n",
       "      <td>1</td>\n",
       "      <td>0</td>\n",
       "      <td>1</td>\n",
       "      <td>0</td>\n",
       "      <td>1</td>\n",
       "      <td>0</td>\n",
       "    </tr>\n",
       "  </tbody>\n",
       "</table>\n",
       "</div>"
      ],
      "text/plain": [
       "       id  innings batting_team bowling_team  overs  over  ball  total_runs  player_dismissed  total  total_score  total_wickets  prev_30_runs  prev_30_wickets  prev_30_dot_balls  prev_30_boundaries\n",
       "0  211028  1        England      Australia    0.1    0     1     0           0                 179    0            0              0             0                1                  0                 \n",
       "1  211028  1        England      Australia    0.2    0     2     1           0                 179    1            0              1             0                1                  0                 "
      ]
     },
     "execution_count": 2,
     "metadata": {},
     "output_type": "execute_result"
    }
   ],
   "source": [
    "df = pd.read_csv('C:/Users/neera/Mad About Sports/Advanced Cricket Analytics Masterclass/Datasets/T20I_data_with_features.csv')\n",
    "df.head(2)"
   ]
  },
  {
   "cell_type": "markdown",
   "id": "45bb2607",
   "metadata": {},
   "source": [
    "# 3. Feature encoding"
   ]
  },
  {
   "cell_type": "code",
   "execution_count": 3,
   "id": "15217d03",
   "metadata": {},
   "outputs": [
    {
     "data": {
      "text/html": [
       "<div>\n",
       "<style scoped>\n",
       "    .dataframe tbody tr th:only-of-type {\n",
       "        vertical-align: middle;\n",
       "    }\n",
       "\n",
       "    .dataframe tbody tr th {\n",
       "        vertical-align: top;\n",
       "    }\n",
       "\n",
       "    .dataframe thead th {\n",
       "        text-align: right;\n",
       "    }\n",
       "</style>\n",
       "<table border=\"1\" class=\"dataframe\">\n",
       "  <thead>\n",
       "    <tr style=\"text-align: right;\">\n",
       "      <th></th>\n",
       "      <th>id</th>\n",
       "      <th>innings</th>\n",
       "      <th>overs</th>\n",
       "      <th>over</th>\n",
       "      <th>ball</th>\n",
       "      <th>total_runs</th>\n",
       "      <th>player_dismissed</th>\n",
       "      <th>total</th>\n",
       "      <th>total_score</th>\n",
       "      <th>total_wickets</th>\n",
       "      <th>prev_30_runs</th>\n",
       "      <th>prev_30_wickets</th>\n",
       "      <th>prev_30_dot_balls</th>\n",
       "      <th>prev_30_boundaries</th>\n",
       "      <th>batting_team_Australia</th>\n",
       "      <th>batting_team_Bangladesh</th>\n",
       "      <th>batting_team_England</th>\n",
       "      <th>batting_team_India</th>\n",
       "      <th>batting_team_New Zealand</th>\n",
       "      <th>batting_team_Pakistan</th>\n",
       "      <th>batting_team_South Africa</th>\n",
       "      <th>batting_team_Sri Lanka</th>\n",
       "      <th>batting_team_West Indies</th>\n",
       "      <th>bowling_team_Australia</th>\n",
       "      <th>bowling_team_Bangladesh</th>\n",
       "      <th>bowling_team_England</th>\n",
       "      <th>bowling_team_India</th>\n",
       "      <th>bowling_team_New Zealand</th>\n",
       "      <th>bowling_team_Pakistan</th>\n",
       "      <th>bowling_team_South Africa</th>\n",
       "      <th>bowling_team_Sri Lanka</th>\n",
       "      <th>bowling_team_West Indies</th>\n",
       "    </tr>\n",
       "  </thead>\n",
       "  <tbody>\n",
       "    <tr>\n",
       "      <th>0</th>\n",
       "      <td>211028</td>\n",
       "      <td>1</td>\n",
       "      <td>0.1</td>\n",
       "      <td>0</td>\n",
       "      <td>1</td>\n",
       "      <td>0</td>\n",
       "      <td>0</td>\n",
       "      <td>179</td>\n",
       "      <td>0</td>\n",
       "      <td>0</td>\n",
       "      <td>0</td>\n",
       "      <td>0</td>\n",
       "      <td>1</td>\n",
       "      <td>0</td>\n",
       "      <td>0</td>\n",
       "      <td>0</td>\n",
       "      <td>1</td>\n",
       "      <td>0</td>\n",
       "      <td>0</td>\n",
       "      <td>0</td>\n",
       "      <td>0</td>\n",
       "      <td>0</td>\n",
       "      <td>0</td>\n",
       "      <td>1</td>\n",
       "      <td>0</td>\n",
       "      <td>0</td>\n",
       "      <td>0</td>\n",
       "      <td>0</td>\n",
       "      <td>0</td>\n",
       "      <td>0</td>\n",
       "      <td>0</td>\n",
       "      <td>0</td>\n",
       "    </tr>\n",
       "    <tr>\n",
       "      <th>1</th>\n",
       "      <td>211028</td>\n",
       "      <td>1</td>\n",
       "      <td>0.2</td>\n",
       "      <td>0</td>\n",
       "      <td>2</td>\n",
       "      <td>1</td>\n",
       "      <td>0</td>\n",
       "      <td>179</td>\n",
       "      <td>1</td>\n",
       "      <td>0</td>\n",
       "      <td>1</td>\n",
       "      <td>0</td>\n",
       "      <td>1</td>\n",
       "      <td>0</td>\n",
       "      <td>0</td>\n",
       "      <td>0</td>\n",
       "      <td>1</td>\n",
       "      <td>0</td>\n",
       "      <td>0</td>\n",
       "      <td>0</td>\n",
       "      <td>0</td>\n",
       "      <td>0</td>\n",
       "      <td>0</td>\n",
       "      <td>1</td>\n",
       "      <td>0</td>\n",
       "      <td>0</td>\n",
       "      <td>0</td>\n",
       "      <td>0</td>\n",
       "      <td>0</td>\n",
       "      <td>0</td>\n",
       "      <td>0</td>\n",
       "      <td>0</td>\n",
       "    </tr>\n",
       "  </tbody>\n",
       "</table>\n",
       "</div>"
      ],
      "text/plain": [
       "       id  innings  overs  over  ball  total_runs  player_dismissed  total  total_score  total_wickets  prev_30_runs  prev_30_wickets  prev_30_dot_balls  prev_30_boundaries  batting_team_Australia  batting_team_Bangladesh  batting_team_England  batting_team_India  batting_team_New Zealand  batting_team_Pakistan  batting_team_South Africa  batting_team_Sri Lanka  batting_team_West Indies  bowling_team_Australia  bowling_team_Bangladesh  bowling_team_England  bowling_team_India  bowling_team_New Zealand  bowling_team_Pakistan  bowling_team_South Africa  bowling_team_Sri Lanka  bowling_team_West Indies\n",
       "0  211028  1        0.1    0     1     0           0                 179    0            0              0             0                1                  0                   0                       0                        1                     0                   0                         0                      0                          0                       0                         1                       0                        0                     0                   0                         0                      0                          0                       0                       \n",
       "1  211028  1        0.2    0     2     1           0                 179    1            0              1             0                1                  0                   0                       0                        1                     0                   0                         0                      0                          0                       0                         1                       0                        0                     0                   0                         0                      0                          0                       0                       "
      ]
     },
     "execution_count": 3,
     "metadata": {},
     "output_type": "execute_result"
    }
   ],
   "source": [
    "df = pd.get_dummies(data = df, columns = ['batting_team', 'bowling_team'])\n",
    "df.head(2)"
   ]
  },
  {
   "cell_type": "code",
   "execution_count": 4,
   "id": "29a4ab79",
   "metadata": {
    "scrolled": true
   },
   "outputs": [
    {
     "data": {
      "text/plain": [
       "Index(['id', 'innings', 'overs', 'over', 'ball', 'total_runs',\n",
       "       'player_dismissed', 'total', 'total_score', 'total_wickets',\n",
       "       'prev_30_runs', 'prev_30_wickets', 'prev_30_dot_balls',\n",
       "       'prev_30_boundaries', 'batting_team_Australia',\n",
       "       'batting_team_Bangladesh', 'batting_team_England', 'batting_team_India',\n",
       "       'batting_team_New Zealand', 'batting_team_Pakistan',\n",
       "       'batting_team_South Africa', 'batting_team_Sri Lanka',\n",
       "       'batting_team_West Indies', 'bowling_team_Australia',\n",
       "       'bowling_team_Bangladesh', 'bowling_team_England', 'bowling_team_India',\n",
       "       'bowling_team_New Zealand', 'bowling_team_Pakistan',\n",
       "       'bowling_team_South Africa', 'bowling_team_Sri Lanka',\n",
       "       'bowling_team_West Indies'],\n",
       "      dtype='object')"
      ]
     },
     "execution_count": 4,
     "metadata": {},
     "output_type": "execute_result"
    }
   ],
   "source": [
    "df.columns"
   ]
  },
  {
   "cell_type": "markdown",
   "id": "a5754d7f",
   "metadata": {},
   "source": [
    "# 4. Subsetting the features"
   ]
  },
  {
   "cell_type": "code",
   "execution_count": 5,
   "id": "60b28c0b",
   "metadata": {},
   "outputs": [
    {
     "data": {
      "text/html": [
       "<div>\n",
       "<style scoped>\n",
       "    .dataframe tbody tr th:only-of-type {\n",
       "        vertical-align: middle;\n",
       "    }\n",
       "\n",
       "    .dataframe tbody tr th {\n",
       "        vertical-align: top;\n",
       "    }\n",
       "\n",
       "    .dataframe thead th {\n",
       "        text-align: right;\n",
       "    }\n",
       "</style>\n",
       "<table border=\"1\" class=\"dataframe\">\n",
       "  <thead>\n",
       "    <tr style=\"text-align: right;\">\n",
       "      <th></th>\n",
       "      <th>id</th>\n",
       "      <th>batting_team_Australia</th>\n",
       "      <th>batting_team_Bangladesh</th>\n",
       "      <th>batting_team_England</th>\n",
       "      <th>batting_team_India</th>\n",
       "      <th>batting_team_New Zealand</th>\n",
       "      <th>batting_team_Pakistan</th>\n",
       "      <th>batting_team_South Africa</th>\n",
       "      <th>batting_team_Sri Lanka</th>\n",
       "      <th>batting_team_West Indies</th>\n",
       "      <th>bowling_team_Australia</th>\n",
       "      <th>bowling_team_Bangladesh</th>\n",
       "      <th>bowling_team_England</th>\n",
       "      <th>bowling_team_India</th>\n",
       "      <th>bowling_team_New Zealand</th>\n",
       "      <th>bowling_team_Pakistan</th>\n",
       "      <th>bowling_team_South Africa</th>\n",
       "      <th>bowling_team_Sri Lanka</th>\n",
       "      <th>bowling_team_West Indies</th>\n",
       "      <th>overs</th>\n",
       "      <th>total_score</th>\n",
       "      <th>total_wickets</th>\n",
       "      <th>prev_30_runs</th>\n",
       "      <th>prev_30_wickets</th>\n",
       "      <th>prev_30_dot_balls</th>\n",
       "      <th>prev_30_boundaries</th>\n",
       "      <th>total</th>\n",
       "    </tr>\n",
       "  </thead>\n",
       "  <tbody>\n",
       "    <tr>\n",
       "      <th>0</th>\n",
       "      <td>211028</td>\n",
       "      <td>0</td>\n",
       "      <td>0</td>\n",
       "      <td>1</td>\n",
       "      <td>0</td>\n",
       "      <td>0</td>\n",
       "      <td>0</td>\n",
       "      <td>0</td>\n",
       "      <td>0</td>\n",
       "      <td>0</td>\n",
       "      <td>1</td>\n",
       "      <td>0</td>\n",
       "      <td>0</td>\n",
       "      <td>0</td>\n",
       "      <td>0</td>\n",
       "      <td>0</td>\n",
       "      <td>0</td>\n",
       "      <td>0</td>\n",
       "      <td>0</td>\n",
       "      <td>0.1</td>\n",
       "      <td>0</td>\n",
       "      <td>0</td>\n",
       "      <td>0</td>\n",
       "      <td>0</td>\n",
       "      <td>1</td>\n",
       "      <td>0</td>\n",
       "      <td>179</td>\n",
       "    </tr>\n",
       "    <tr>\n",
       "      <th>1</th>\n",
       "      <td>211028</td>\n",
       "      <td>0</td>\n",
       "      <td>0</td>\n",
       "      <td>1</td>\n",
       "      <td>0</td>\n",
       "      <td>0</td>\n",
       "      <td>0</td>\n",
       "      <td>0</td>\n",
       "      <td>0</td>\n",
       "      <td>0</td>\n",
       "      <td>1</td>\n",
       "      <td>0</td>\n",
       "      <td>0</td>\n",
       "      <td>0</td>\n",
       "      <td>0</td>\n",
       "      <td>0</td>\n",
       "      <td>0</td>\n",
       "      <td>0</td>\n",
       "      <td>0</td>\n",
       "      <td>0.2</td>\n",
       "      <td>1</td>\n",
       "      <td>0</td>\n",
       "      <td>1</td>\n",
       "      <td>0</td>\n",
       "      <td>1</td>\n",
       "      <td>0</td>\n",
       "      <td>179</td>\n",
       "    </tr>\n",
       "  </tbody>\n",
       "</table>\n",
       "</div>"
      ],
      "text/plain": [
       "       id  batting_team_Australia  batting_team_Bangladesh  batting_team_England  batting_team_India  batting_team_New Zealand  batting_team_Pakistan  batting_team_South Africa  batting_team_Sri Lanka  batting_team_West Indies  bowling_team_Australia  bowling_team_Bangladesh  bowling_team_England  bowling_team_India  bowling_team_New Zealand  bowling_team_Pakistan  bowling_team_South Africa  bowling_team_Sri Lanka  bowling_team_West Indies  overs  total_score  total_wickets  prev_30_runs  prev_30_wickets  prev_30_dot_balls  prev_30_boundaries  total\n",
       "0  211028  0                       0                        1                     0                   0                         0                      0                          0                       0                         1                       0                        0                     0                   0                         0                      0                          0                       0                         0.1    0            0              0             0                1                  0                   179  \n",
       "1  211028  0                       0                        1                     0                   0                         0                      0                          0                       0                         1                       0                        0                     0                   0                         0                      0                          0                       0                         0.2    1            0              1             0                1                  0                   179  "
      ]
     },
     "execution_count": 5,
     "metadata": {},
     "output_type": "execute_result"
    }
   ],
   "source": [
    "df = df[['id', 'batting_team_Australia', 'batting_team_Bangladesh', 'batting_team_England', 'batting_team_India', 'batting_team_New Zealand',\n",
    "         'batting_team_Pakistan', 'batting_team_South Africa', 'batting_team_Sri Lanka', 'batting_team_West Indies', 'bowling_team_Australia',\n",
    "         'bowling_team_Bangladesh', 'bowling_team_England', 'bowling_team_India', 'bowling_team_New Zealand', 'bowling_team_Pakistan',\n",
    "         'bowling_team_South Africa', 'bowling_team_Sri Lanka', 'bowling_team_West Indies', 'overs', 'total_score', 'total_wickets', 'prev_30_runs',\n",
    "         'prev_30_wickets', 'prev_30_dot_balls', 'prev_30_boundaries', 'total']]\n",
    "\n",
    "df.head(2)"
   ]
  },
  {
   "cell_type": "markdown",
   "id": "024b0594",
   "metadata": {},
   "source": [
    "# 5. train_test_split"
   ]
  },
  {
   "cell_type": "code",
   "execution_count": 6,
   "id": "2e11b418",
   "metadata": {},
   "outputs": [],
   "source": [
    "X = df.drop(labels = ['id', 'total'], axis = 1).values\n",
    "y = df['total'].values"
   ]
  },
  {
   "cell_type": "code",
   "execution_count": 7,
   "id": "f6d0b323",
   "metadata": {
    "scrolled": false
   },
   "outputs": [
    {
     "data": {
      "text/plain": [
       "array([[ 0.,  0.,  1., ...,  0.,  1.,  0.],\n",
       "       [ 0.,  0.,  1., ...,  0.,  1.,  0.],\n",
       "       [ 0.,  0.,  1., ...,  0.,  2.,  0.],\n",
       "       ...,\n",
       "       [ 0.,  0.,  0., ...,  2., 14.,  4.],\n",
       "       [ 0.,  0.,  0., ...,  2., 13.,  5.],\n",
       "       [ 0.,  0.,  0., ...,  1., 12.,  6.]])"
      ]
     },
     "execution_count": 7,
     "metadata": {},
     "output_type": "execute_result"
    }
   ],
   "source": [
    "X"
   ]
  },
  {
   "cell_type": "code",
   "execution_count": 8,
   "id": "dbe8b806",
   "metadata": {},
   "outputs": [
    {
     "data": {
      "text/plain": [
       "array([179, 179, 179, ...,  71,  71,  71], dtype=int64)"
      ]
     },
     "execution_count": 8,
     "metadata": {},
     "output_type": "execute_result"
    }
   ],
   "source": [
    "y"
   ]
  },
  {
   "cell_type": "markdown",
   "id": "a85199af",
   "metadata": {},
   "source": [
    "The stratify parameter makes a split so that the proportion of values in the sample produced will be the same as the proportion of values provided to parameter 'stratify'.\n",
    "\n",
    "For example, if variable y is a binary categorical variable with values 0 and 1 and there are 25% of zeros and 75% of ones, stratify=y will make sure that your random split has 25% of 0's and 75% of 1's."
   ]
  },
  {
   "cell_type": "code",
   "execution_count": 9,
   "id": "13cfda75",
   "metadata": {},
   "outputs": [],
   "source": [
    "X_train, X_test, y_train, y_test = train_test_split(X, y, test_size = 0.25, random_state = 42, stratify = y)"
   ]
  },
  {
   "cell_type": "code",
   "execution_count": 10,
   "id": "70dc78a7",
   "metadata": {},
   "outputs": [],
   "source": [
    "X_train = np.asarray(X_train).astype(np.float32)\n",
    "X_test  = np.asarray(X_test).astype(np.float32)"
   ]
  },
  {
   "cell_type": "code",
   "execution_count": 11,
   "id": "fe41a4cb",
   "metadata": {},
   "outputs": [
    {
     "data": {
      "text/plain": [
       "array([[ 0.,  0.,  0., ...,  3., 10.,  1.],\n",
       "       [ 0.,  0.,  0., ...,  0., 13., 12.],\n",
       "       [ 0.,  0.,  0., ...,  0., 10.,  1.],\n",
       "       ...,\n",
       "       [ 0.,  0.,  0., ...,  1.,  6.,  6.],\n",
       "       [ 0.,  0.,  0., ...,  2.,  6.,  2.],\n",
       "       [ 0.,  0.,  0., ...,  2., 14.,  2.]], dtype=float32)"
      ]
     },
     "execution_count": 11,
     "metadata": {},
     "output_type": "execute_result"
    }
   ],
   "source": [
    "X_train"
   ]
  },
  {
   "cell_type": "code",
   "execution_count": 12,
   "id": "87be236f",
   "metadata": {},
   "outputs": [
    {
     "data": {
      "text/plain": [
       "array([[ 0.,  1.,  0., ...,  1., 11.,  5.],\n",
       "       [ 0.,  0.,  0., ...,  0.,  7.,  4.],\n",
       "       [ 0.,  0.,  0., ...,  2., 16.,  4.],\n",
       "       ...,\n",
       "       [ 0.,  0.,  1., ...,  0.,  8.,  1.],\n",
       "       [ 0.,  0.,  0., ...,  0., 12.,  7.],\n",
       "       [ 0.,  0.,  1., ...,  0.,  4.,  8.]], dtype=float32)"
      ]
     },
     "execution_count": 12,
     "metadata": {},
     "output_type": "execute_result"
    }
   ],
   "source": [
    "X_test"
   ]
  },
  {
   "cell_type": "code",
   "execution_count": 13,
   "id": "338ecfa0",
   "metadata": {},
   "outputs": [
    {
     "name": "stdout",
     "output_type": "stream",
     "text": [
      "(179337, 25) (59780, 25) (179337,) (59780,)\n"
     ]
    }
   ],
   "source": [
    "print(X_train.shape, X_test.shape, y_train.shape, y_test.shape)"
   ]
  },
  {
   "cell_type": "markdown",
   "id": "a887b363",
   "metadata": {},
   "source": [
    "# 6. Training LR model"
   ]
  },
  {
   "cell_type": "code",
   "execution_count": 14,
   "id": "2d2a48c5",
   "metadata": {},
   "outputs": [
    {
     "data": {
      "text/plain": [
       "LinearRegression()"
      ]
     },
     "execution_count": 14,
     "metadata": {},
     "output_type": "execute_result"
    }
   ],
   "source": [
    "LR_model = LinearRegression()\n",
    "LR_model.fit(X_train, y_train)"
   ]
  },
  {
   "cell_type": "markdown",
   "id": "ef5d8ba5",
   "metadata": {},
   "source": [
    "# 7. Creating a pickle file for the classifier"
   ]
  },
  {
   "cell_type": "code",
   "execution_count": 15,
   "id": "cda39106",
   "metadata": {},
   "outputs": [],
   "source": [
    "filename = 'lr-model.pkl'\n",
    "pickle.dump(LR_model, open(filename, 'wb'))"
   ]
  },
  {
   "cell_type": "code",
   "execution_count": 16,
   "id": "868a9c47",
   "metadata": {},
   "outputs": [
    {
     "data": {
      "text/plain": [
       "18.81745701187149"
      ]
     },
     "execution_count": 16,
     "metadata": {},
     "output_type": "execute_result"
    }
   ],
   "source": [
    "prediction = LR_model.predict(X_test)\n",
    "mean_absolute_error(y_test, prediction)"
   ]
  },
  {
   "cell_type": "markdown",
   "id": "12203411",
   "metadata": {},
   "source": [
    "# 8. Function to predict scores"
   ]
  },
  {
   "cell_type": "code",
   "execution_count": 17,
   "id": "ff572225",
   "metadata": {},
   "outputs": [],
   "source": [
    "def score_prediction(bat_team, bowl_team, overs, total_score, total_wickets, prev_30_runs, prev_30_wickets, prev_30_dot_balls, prev_30_boundaries):\n",
    "    temp_array = list()\n",
    "    \n",
    "    if bat_team == 'AUS':\n",
    "        temp_array += [1, 0, 0, 0, 0, 0, 0, 0, 0]\n",
    "    elif bat_team == 'BAN':\n",
    "        temp_array += [0, 1, 0, 0, 0, 0, 0, 0, 0]\n",
    "    elif bat_team == 'ENG':\n",
    "        temp_array += [0, 0, 1, 0, 0, 0, 0, 0, 0]\n",
    "    elif bat_team == 'IND':\n",
    "        temp_array += [0, 0, 0, 1, 0, 0, 0, 0, 0]\n",
    "    elif bat_team == 'NZ':\n",
    "        temp_array += [0, 0, 0, 0, 1, 0, 0, 0, 0]\n",
    "    elif bat_team == 'PAK':\n",
    "        temp_array += [0, 0, 0, 0, 0, 1, 0, 0, 0]\n",
    "    elif bat_team == 'SA':\n",
    "        temp_array += [0, 0, 0, 0, 0, 0, 1, 0, 0]\n",
    "    elif bat_team == 'SL':\n",
    "        temp_array += [0, 0, 0, 0, 0, 0, 0, 1, 0]\n",
    "    elif bat_team == 'WI':\n",
    "        temp_array += [0, 0, 0, 0, 0, 0, 0, 0, 1]\n",
    "        \n",
    "    if bowl_team == 'AUS':\n",
    "        temp_array += [1, 0, 0, 0, 0, 0, 0, 0, 0]\n",
    "    elif bowl_team == 'BAN':\n",
    "        temp_array += [0, 1, 0, 0, 0, 0, 0, 0, 0]\n",
    "    elif bowl_team == 'ENG':\n",
    "        temp_array += [0, 0, 1, 0, 0, 0, 0, 0, 0]\n",
    "    elif bowl_team == 'IND':\n",
    "        temp_array += [0, 0, 0, 1, 0, 0, 0, 0, 0]\n",
    "    elif bowl_team == 'NZ':\n",
    "        temp_array += [0, 0, 0, 0, 1, 0, 0, 0, 0]\n",
    "    elif bowl_team == 'PAK':\n",
    "        temp_array += [0, 0, 0, 0, 0, 1, 0, 0, 0]\n",
    "    elif bowl_team == 'SA':\n",
    "        temp_array += [0, 0, 0, 0, 0, 0, 1, 0, 0]\n",
    "    elif bowl_team == 'SL':\n",
    "        temp_array += [0, 0, 0, 0, 0, 0, 0, 1, 0]\n",
    "    elif bowl_team == 'WI':\n",
    "        temp_array += [0, 0, 0, 0, 0, 0, 0, 0, 1]\n",
    "        \n",
    "    temp_array += [overs, total_score, total_wickets, prev_30_runs, prev_30_wickets, prev_30_dot_balls, prev_30_boundaries]\n",
    "    data = np.array([temp_array])\n",
    "    my_prediction = int(LR_model.predict(data))\n",
    "    \n",
    "    print('Predicted score: ', my_prediction)\n",
    "    print('Predicted score range: ', my_prediction - 19, 'to ', my_prediction + 19)"
   ]
  },
  {
   "cell_type": "code",
   "execution_count": 18,
   "id": "9fcf5695",
   "metadata": {},
   "outputs": [
    {
     "name": "stdout",
     "output_type": "stream",
     "text": [
      "Predicted score:  140\n",
      "Predicted score range:  121 to  159\n"
     ]
    }
   ],
   "source": [
    "bat_team = 'AUS'\n",
    "\n",
    "bowl_team = 'IND'\n",
    "\n",
    "overs = 10.3\n",
    "\n",
    "total_score = 67 # current score\n",
    "\n",
    "total_wickets = 2 # current wickets\n",
    "\n",
    "prev_30_runs = 37 # runs in last 30 balls\n",
    "\n",
    "prev_30_wickets = 1 # wickets in last 30 balls\n",
    "\n",
    "prev_30_dot_balls = 8 # dots in last 30 balls\n",
    "\n",
    "prev_30_boundaries = 5 # boundaries in last 30 balls\n",
    "\n",
    "score_prediction(bat_team, bowl_team, overs, total_score, total_wickets, prev_30_runs, prev_30_wickets, prev_30_dot_balls, prev_30_boundaries)"
   ]
  },
  {
   "cell_type": "code",
   "execution_count": null,
   "id": "a86f7935",
   "metadata": {},
   "outputs": [],
   "source": []
  }
 ],
 "metadata": {
  "kernelspec": {
   "display_name": "Python 3",
   "language": "python",
   "name": "python3"
  },
  "language_info": {
   "codemirror_mode": {
    "name": "ipython",
    "version": 3
   },
   "file_extension": ".py",
   "mimetype": "text/x-python",
   "name": "python",
   "nbconvert_exporter": "python",
   "pygments_lexer": "ipython3",
   "version": "3.8.8"
  }
 },
 "nbformat": 4,
 "nbformat_minor": 5
}
