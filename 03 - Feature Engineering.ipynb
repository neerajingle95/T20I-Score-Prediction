{
 "cells": [
  {
   "cell_type": "markdown",
   "id": "d470c80e",
   "metadata": {},
   "source": [
    "# 1. Importing the libraries"
   ]
  },
  {
   "cell_type": "code",
   "execution_count": 1,
   "id": "53447f2c",
   "metadata": {},
   "outputs": [
    {
     "data": {
      "text/html": [
       "<style>.container { width:100% !important; }</style>"
      ],
      "text/plain": [
       "<IPython.core.display.HTML object>"
      ]
     },
     "metadata": {},
     "output_type": "display_data"
    }
   ],
   "source": [
    "import pandas as pd\n",
    "import numpy as np\n",
    "\n",
    "import warnings\n",
    "warnings.filterwarnings('ignore')\n",
    "\n",
    "pd.set_option('display.max_columns', None)\n",
    "pd.set_option('display.expand_frame_repr', False)\n",
    "pd.set_option('max_colwidth', -1)\n",
    "\n",
    "from IPython.display import display, HTML\n",
    "display(HTML(\"<style>.container { width:100% !important; }</style>\"))"
   ]
  },
  {
   "cell_type": "markdown",
   "id": "5bbfed6d",
   "metadata": {},
   "source": [
    "# 2. Loading the data"
   ]
  },
  {
   "cell_type": "code",
   "execution_count": 2,
   "id": "d2edb742",
   "metadata": {
    "scrolled": true
   },
   "outputs": [],
   "source": [
    "df = pd.read_csv('C:/Users/neera/Mad About Sports/Advanced Cricket Analytics Masterclass/Datasets/T20I_ball_by_ball_updated.csv')"
   ]
  },
  {
   "cell_type": "markdown",
   "id": "d6443c17",
   "metadata": {},
   "source": [
    "# 3. Feature engineering"
   ]
  },
  {
   "cell_type": "code",
   "execution_count": 3,
   "id": "f9c9d7b8",
   "metadata": {},
   "outputs": [
    {
     "data": {
      "text/html": [
       "<div>\n",
       "<style scoped>\n",
       "    .dataframe tbody tr th:only-of-type {\n",
       "        vertical-align: middle;\n",
       "    }\n",
       "\n",
       "    .dataframe tbody tr th {\n",
       "        vertical-align: top;\n",
       "    }\n",
       "\n",
       "    .dataframe thead th {\n",
       "        text-align: right;\n",
       "    }\n",
       "</style>\n",
       "<table border=\"1\" class=\"dataframe\">\n",
       "  <thead>\n",
       "    <tr style=\"text-align: right;\">\n",
       "      <th></th>\n",
       "      <th>match_id</th>\n",
       "      <th>season</th>\n",
       "      <th>start_date</th>\n",
       "      <th>venue</th>\n",
       "      <th>innings</th>\n",
       "      <th>ball</th>\n",
       "      <th>batting_team</th>\n",
       "      <th>bowling_team</th>\n",
       "      <th>striker</th>\n",
       "      <th>non_striker</th>\n",
       "      <th>bowler</th>\n",
       "      <th>runs_off_bat</th>\n",
       "      <th>extras</th>\n",
       "      <th>wides</th>\n",
       "      <th>noballs</th>\n",
       "      <th>byes</th>\n",
       "      <th>legbyes</th>\n",
       "      <th>penalty</th>\n",
       "      <th>wicket_type</th>\n",
       "      <th>player_dismissed</th>\n",
       "      <th>other_wicket_type</th>\n",
       "      <th>other_player_dismissed</th>\n",
       "    </tr>\n",
       "  </thead>\n",
       "  <tbody>\n",
       "    <tr>\n",
       "      <th>0</th>\n",
       "      <td>211048</td>\n",
       "      <td>2004/05</td>\n",
       "      <td>2005-02-17</td>\n",
       "      <td>Eden Park</td>\n",
       "      <td>1</td>\n",
       "      <td>0.1</td>\n",
       "      <td>Australia</td>\n",
       "      <td>New Zealand</td>\n",
       "      <td>AC Gilchrist</td>\n",
       "      <td>MJ Clarke</td>\n",
       "      <td>DR Tuffey</td>\n",
       "      <td>0</td>\n",
       "      <td>1</td>\n",
       "      <td>1.0</td>\n",
       "      <td>NaN</td>\n",
       "      <td>NaN</td>\n",
       "      <td>NaN</td>\n",
       "      <td>NaN</td>\n",
       "      <td>NaN</td>\n",
       "      <td>NaN</td>\n",
       "      <td>NaN</td>\n",
       "      <td>NaN</td>\n",
       "    </tr>\n",
       "    <tr>\n",
       "      <th>1</th>\n",
       "      <td>211048</td>\n",
       "      <td>2004/05</td>\n",
       "      <td>2005-02-17</td>\n",
       "      <td>Eden Park</td>\n",
       "      <td>1</td>\n",
       "      <td>0.2</td>\n",
       "      <td>Australia</td>\n",
       "      <td>New Zealand</td>\n",
       "      <td>AC Gilchrist</td>\n",
       "      <td>MJ Clarke</td>\n",
       "      <td>DR Tuffey</td>\n",
       "      <td>0</td>\n",
       "      <td>1</td>\n",
       "      <td>NaN</td>\n",
       "      <td>NaN</td>\n",
       "      <td>NaN</td>\n",
       "      <td>1.0</td>\n",
       "      <td>NaN</td>\n",
       "      <td>NaN</td>\n",
       "      <td>NaN</td>\n",
       "      <td>NaN</td>\n",
       "      <td>NaN</td>\n",
       "    </tr>\n",
       "  </tbody>\n",
       "</table>\n",
       "</div>"
      ],
      "text/plain": [
       "   match_id   season  start_date      venue  innings  ball batting_team bowling_team       striker non_striker     bowler  runs_off_bat  extras  wides  noballs  byes  legbyes  penalty wicket_type player_dismissed  other_wicket_type  other_player_dismissed\n",
       "0  211048    2004/05  2005-02-17  Eden Park  1        0.1   Australia    New Zealand  AC Gilchrist  MJ Clarke   DR Tuffey  0             1       1.0   NaN      NaN   NaN      NaN       NaN         NaN             NaN                NaN                    \n",
       "1  211048    2004/05  2005-02-17  Eden Park  1        0.2   Australia    New Zealand  AC Gilchrist  MJ Clarke   DR Tuffey  0             1      NaN    NaN      NaN    1.0     NaN       NaN         NaN             NaN                NaN                    "
      ]
     },
     "execution_count": 3,
     "metadata": {},
     "output_type": "execute_result"
    }
   ],
   "source": [
    "df.head(2)"
   ]
  },
  {
   "cell_type": "code",
   "execution_count": 4,
   "id": "728970f3",
   "metadata": {},
   "outputs": [
    {
     "data": {
      "text/plain": [
       "(540332, 22)"
      ]
     },
     "execution_count": 4,
     "metadata": {},
     "output_type": "execute_result"
    }
   ],
   "source": [
    "df.shape"
   ]
  },
  {
   "cell_type": "code",
   "execution_count": 5,
   "id": "549987d2",
   "metadata": {},
   "outputs": [
    {
     "data": {
      "text/plain": [
       "2365"
      ]
     },
     "execution_count": 5,
     "metadata": {},
     "output_type": "execute_result"
    }
   ],
   "source": [
    "# No. of matches\n",
    "len(df['match_id'].unique())"
   ]
  },
  {
   "cell_type": "code",
   "execution_count": 6,
   "id": "409cb2d2",
   "metadata": {
    "scrolled": true
   },
   "outputs": [
    {
     "name": "stdout",
     "output_type": "stream",
     "text": [
      "<class 'pandas.core.frame.DataFrame'>\n",
      "RangeIndex: 540332 entries, 0 to 540331\n",
      "Data columns (total 22 columns):\n",
      " #   Column                  Non-Null Count   Dtype  \n",
      "---  ------                  --------------   -----  \n",
      " 0   match_id                540332 non-null  int64  \n",
      " 1   season                  540332 non-null  object \n",
      " 2   start_date              540332 non-null  object \n",
      " 3   venue                   540332 non-null  object \n",
      " 4   innings                 540332 non-null  int64  \n",
      " 5   ball                    540332 non-null  float64\n",
      " 6   batting_team            540332 non-null  object \n",
      " 7   bowling_team            540332 non-null  object \n",
      " 8   striker                 540332 non-null  object \n",
      " 9   non_striker             540332 non-null  object \n",
      " 10  bowler                  540332 non-null  object \n",
      " 11  runs_off_bat            540332 non-null  int64  \n",
      " 12  extras                  540332 non-null  int64  \n",
      " 13  wides                   20281 non-null   float64\n",
      " 14  noballs                 2531 non-null    float64\n",
      " 15  byes                    2105 non-null    float64\n",
      " 16  legbyes                 7480 non-null    float64\n",
      " 17  penalty                 5 non-null       float64\n",
      " 18  wicket_type             29423 non-null   object \n",
      " 19  player_dismissed        29423 non-null   object \n",
      " 20  other_wicket_type       0 non-null       float64\n",
      " 21  other_player_dismissed  0 non-null       float64\n",
      "dtypes: float64(8), int64(4), object(10)\n",
      "memory usage: 90.7+ MB\n"
     ]
    }
   ],
   "source": [
    "df.info()"
   ]
  },
  {
   "cell_type": "markdown",
   "id": "62a384ed",
   "metadata": {},
   "source": [
    "## 3.1 Subsetting only consistent teams"
   ]
  },
  {
   "cell_type": "code",
   "execution_count": 7,
   "id": "5cdaa628",
   "metadata": {
    "scrolled": true
   },
   "outputs": [
    {
     "data": {
      "text/plain": [
       "array(['Australia', 'New Zealand', 'England', 'South Africa',\n",
       "       'West Indies', 'Sri Lanka', 'Pakistan', 'India', 'Kenya',\n",
       "       'Bangladesh', 'Scotland', 'Zimbabwe', 'Bermuda', 'Ireland',\n",
       "       'Netherlands', 'Afghanistan', 'Canada', 'Nepal', 'Hong Kong',\n",
       "       'United Arab Emirates', 'Papua New Guinea', 'Oman', 'ICC World XI',\n",
       "       'Malaysia', 'Thailand', 'Uganda', 'Botswana', 'Lesotho', 'Malawi',\n",
       "       'Namibia', 'Sierra Leone', 'Mozambique', 'China', 'Kuwait',\n",
       "       'United States of America', 'Philippines', 'Vanuatu', 'Nigeria',\n",
       "       'Tanzania', 'Japan', 'Indonesia', 'Fiji', 'Rwanda', 'Samoa',\n",
       "       'Ghana', 'Germany', 'Italy', 'Guernsey', 'Jersey', 'Denmark',\n",
       "       'Norway', 'Mali', 'Maldives', 'Singapore', 'Qatar',\n",
       "       'Cayman Islands', 'South Korea', 'Portugal', 'Spain', 'Gibraltar',\n",
       "       'Bhutan', 'Saudi Arabia', 'Bahrain', 'Iran', 'Austria',\n",
       "       'Isle of Man', 'Belgium', 'Luxembourg', 'Czech Republic',\n",
       "       'Bulgaria', 'Romania', 'Greece', 'Serbia', 'Malta', 'France',\n",
       "       'Sweden', 'Finland', 'Hungary', 'Eswatini', 'Cameroon', 'Estonia',\n",
       "       'Cyprus', 'Swaziland', 'Seychelles', 'Argentina', 'Brazil',\n",
       "       'Switzerland', 'Belize', 'Bahamas', 'Panama', 'Israel', 'Turkey',\n",
       "       'Croatia', 'Slovenia', 'Barbados', 'Cook Islands'], dtype=object)"
      ]
     },
     "execution_count": 7,
     "metadata": {},
     "output_type": "execute_result"
    }
   ],
   "source": [
    "df['batting_team'].unique()"
   ]
  },
  {
   "cell_type": "code",
   "execution_count": 8,
   "id": "210a71c8",
   "metadata": {},
   "outputs": [],
   "source": [
    "consistent_teams = [\n",
    "    'Australia',\n",
    "    'New Zealand',\n",
    "    'England',\n",
    "    'South Africa',\n",
    "    'West Indies',\n",
    "    'Sri Lanka',\n",
    "    'Pakistan',\n",
    "    'India',\n",
    "    'Bangladesh'\n",
    "]"
   ]
  },
  {
   "cell_type": "code",
   "execution_count": 9,
   "id": "11e5e92a",
   "metadata": {},
   "outputs": [],
   "source": [
    "df = df[(df['batting_team'].isin(consistent_teams)) & (df['bowling_team'].isin(consistent_teams))]"
   ]
  },
  {
   "cell_type": "code",
   "execution_count": 10,
   "id": "098cd09f",
   "metadata": {},
   "outputs": [
    {
     "data": {
      "text/plain": [
       "array(['Australia', 'New Zealand', 'England', 'South Africa',\n",
       "       'West Indies', 'Sri Lanka', 'Pakistan', 'India', 'Bangladesh'],\n",
       "      dtype=object)"
      ]
     },
     "execution_count": 10,
     "metadata": {},
     "output_type": "execute_result"
    }
   ],
   "source": [
    "df['batting_team'].unique()"
   ]
  },
  {
   "cell_type": "code",
   "execution_count": 11,
   "id": "0bddbc8a",
   "metadata": {},
   "outputs": [
    {
     "data": {
      "text/plain": [
       "array(['New Zealand', 'Australia', 'England', 'South Africa',\n",
       "       'West Indies', 'Sri Lanka', 'Pakistan', 'India', 'Bangladesh'],\n",
       "      dtype=object)"
      ]
     },
     "execution_count": 11,
     "metadata": {},
     "output_type": "execute_result"
    }
   ],
   "source": [
    "df['bowling_team'].unique()"
   ]
  },
  {
   "cell_type": "markdown",
   "id": "c5a4f861",
   "metadata": {},
   "source": [
    "## 3.2 Subsetting the data with required features\n",
    "### 3.2.1 Sorting by 'match_id' and 'innings'"
   ]
  },
  {
   "cell_type": "code",
   "execution_count": 12,
   "id": "5c02ba0f",
   "metadata": {},
   "outputs": [],
   "source": [
    "df = df.sort_values(['match_id', 'innings'], ascending = [True, True])"
   ]
  },
  {
   "cell_type": "markdown",
   "id": "58607e08",
   "metadata": {},
   "source": [
    "### 3.2.2 Extracting over and ball no. from 'ball'\n",
    "#### 3.2.2.1 Renaming 'ball' to 'overs' and 'match_id' to 'id'"
   ]
  },
  {
   "cell_type": "code",
   "execution_count": 13,
   "id": "ff05f7a7",
   "metadata": {},
   "outputs": [],
   "source": [
    "df.rename(columns = {\n",
    "    'match_id': 'id',\n",
    "    'ball':     'overs'\n",
    "}, inplace = True)"
   ]
  },
  {
   "cell_type": "markdown",
   "id": "c8a5b242",
   "metadata": {},
   "source": [
    "#### 3.2.2.2 Converting values in 'overs' to string"
   ]
  },
  {
   "cell_type": "code",
   "execution_count": 14,
   "id": "7c261a9b",
   "metadata": {},
   "outputs": [
    {
     "data": {
      "text/plain": [
       "numpy.float64"
      ]
     },
     "execution_count": 14,
     "metadata": {},
     "output_type": "execute_result"
    }
   ],
   "source": [
    "type(df['overs'][0])"
   ]
  },
  {
   "cell_type": "code",
   "execution_count": 15,
   "id": "63a24c82",
   "metadata": {},
   "outputs": [
    {
     "data": {
      "text/plain": [
       "str"
      ]
     },
     "execution_count": 15,
     "metadata": {},
     "output_type": "execute_result"
    }
   ],
   "source": [
    "df['overs'] = df['overs'].astype(str)\n",
    "type(df['overs'][0])"
   ]
  },
  {
   "cell_type": "markdown",
   "id": "4eb7e5e7",
   "metadata": {},
   "source": [
    "#### 3.2.2.3 Performing operations on one value for testing"
   ]
  },
  {
   "cell_type": "code",
   "execution_count": 16,
   "id": "3d005d32",
   "metadata": {},
   "outputs": [
    {
     "data": {
      "text/plain": [
       "'0.1'"
      ]
     },
     "execution_count": 16,
     "metadata": {},
     "output_type": "execute_result"
    }
   ],
   "source": [
    "# overs, over, ball\n",
    "# 0.1,   0,    1\n",
    "df['overs'][0]"
   ]
  },
  {
   "cell_type": "code",
   "execution_count": 17,
   "id": "9ba47a6f",
   "metadata": {},
   "outputs": [
    {
     "data": {
      "text/plain": [
       "['0', '1']"
      ]
     },
     "execution_count": 17,
     "metadata": {},
     "output_type": "execute_result"
    }
   ],
   "source": [
    "df['overs'][0].split('.')"
   ]
  },
  {
   "cell_type": "code",
   "execution_count": 18,
   "id": "b0649016",
   "metadata": {},
   "outputs": [
    {
     "data": {
      "text/plain": [
       "('0', '1')"
      ]
     },
     "execution_count": 18,
     "metadata": {},
     "output_type": "execute_result"
    }
   ],
   "source": [
    "df['overs'][0].split('.')[0], df['overs'][0].split('.')[1]"
   ]
  },
  {
   "cell_type": "markdown",
   "id": "1b607251",
   "metadata": {},
   "source": [
    "#### 3.2.2.4 Getting over and ball from 'overs'"
   ]
  },
  {
   "cell_type": "code",
   "execution_count": 19,
   "id": "4faa55c9",
   "metadata": {},
   "outputs": [],
   "source": [
    "df['over'] = df['overs'].apply(lambda x: x.split('.')[0])\n",
    "df['ball'] = df['overs'].apply(lambda x: x.split('.')[1])"
   ]
  },
  {
   "cell_type": "markdown",
   "id": "9364ce2b",
   "metadata": {},
   "source": [
    "### 3.2.3 Extracting total runs from 'runs_off_bat' and 'extras'"
   ]
  },
  {
   "cell_type": "code",
   "execution_count": 20,
   "id": "6b4f080a",
   "metadata": {},
   "outputs": [],
   "source": [
    "df['total_runs'] = df['runs_off_bat'] + df['extras']"
   ]
  },
  {
   "cell_type": "markdown",
   "id": "71feb8aa",
   "metadata": {},
   "source": [
    "### 3.2.4 Getting the required columns"
   ]
  },
  {
   "cell_type": "code",
   "execution_count": 21,
   "id": "836b34fe",
   "metadata": {},
   "outputs": [],
   "source": [
    "df = df[['id', 'innings', 'batting_team', 'bowling_team', 'overs', 'over', 'ball', 'total_runs', 'player_dismissed']]"
   ]
  },
  {
   "cell_type": "markdown",
   "id": "869bea1f",
   "metadata": {},
   "source": [
    "### 3.2.5 Replacing NaNs with 0s"
   ]
  },
  {
   "cell_type": "code",
   "execution_count": 22,
   "id": "33e08c35",
   "metadata": {},
   "outputs": [],
   "source": [
    "df.replace(np.nan, 0, inplace=True)"
   ]
  },
  {
   "cell_type": "markdown",
   "id": "031eb845",
   "metadata": {},
   "source": [
    "### 3.2.6 Total runs scored in the innings"
   ]
  },
  {
   "cell_type": "code",
   "execution_count": 23,
   "id": "669d9324",
   "metadata": {},
   "outputs": [],
   "source": [
    "df['total'] = df.groupby(['id', 'innings'])['total_runs'].transform('sum')"
   ]
  },
  {
   "cell_type": "markdown",
   "id": "83f5e93e",
   "metadata": {},
   "source": [
    "### 3.2.7 Runs scored till the current ball"
   ]
  },
  {
   "cell_type": "code",
   "execution_count": 24,
   "id": "35de8327",
   "metadata": {
    "scrolled": true
   },
   "outputs": [],
   "source": [
    "df['total_score'] = df.groupby(['id', 'innings'])['total_runs'].apply(lambda x: x.cumsum())"
   ]
  },
  {
   "cell_type": "markdown",
   "id": "bcaad45b",
   "metadata": {},
   "source": [
    "### 3.2.8 Runs scored in previous 30 balls"
   ]
  },
  {
   "cell_type": "code",
   "execution_count": 25,
   "id": "f01dc2ab",
   "metadata": {
    "scrolled": true
   },
   "outputs": [
    {
     "data": {
      "text/html": [
       "<div>\n",
       "<style scoped>\n",
       "    .dataframe tbody tr th:only-of-type {\n",
       "        vertical-align: middle;\n",
       "    }\n",
       "\n",
       "    .dataframe tbody tr th {\n",
       "        vertical-align: top;\n",
       "    }\n",
       "\n",
       "    .dataframe thead th {\n",
       "        text-align: right;\n",
       "    }\n",
       "</style>\n",
       "<table border=\"1\" class=\"dataframe\">\n",
       "  <thead>\n",
       "    <tr style=\"text-align: right;\">\n",
       "      <th></th>\n",
       "      <th>id</th>\n",
       "      <th>innings</th>\n",
       "      <th>level_2</th>\n",
       "      <th>total_runs</th>\n",
       "    </tr>\n",
       "  </thead>\n",
       "  <tbody>\n",
       "    <tr>\n",
       "      <th>0</th>\n",
       "      <td>211028</td>\n",
       "      <td>1</td>\n",
       "      <td>245</td>\n",
       "      <td>0.0</td>\n",
       "    </tr>\n",
       "    <tr>\n",
       "      <th>1</th>\n",
       "      <td>211028</td>\n",
       "      <td>1</td>\n",
       "      <td>246</td>\n",
       "      <td>1.0</td>\n",
       "    </tr>\n",
       "    <tr>\n",
       "      <th>2</th>\n",
       "      <td>211028</td>\n",
       "      <td>1</td>\n",
       "      <td>247</td>\n",
       "      <td>1.0</td>\n",
       "    </tr>\n",
       "    <tr>\n",
       "      <th>3</th>\n",
       "      <td>211028</td>\n",
       "      <td>1</td>\n",
       "      <td>248</td>\n",
       "      <td>1.0</td>\n",
       "    </tr>\n",
       "    <tr>\n",
       "      <th>4</th>\n",
       "      <td>211028</td>\n",
       "      <td>1</td>\n",
       "      <td>249</td>\n",
       "      <td>1.0</td>\n",
       "    </tr>\n",
       "    <tr>\n",
       "      <th>...</th>\n",
       "      <td>...</td>\n",
       "      <td>...</td>\n",
       "      <td>...</td>\n",
       "      <td>...</td>\n",
       "    </tr>\n",
       "    <tr>\n",
       "      <th>239112</th>\n",
       "      <td>1335808</td>\n",
       "      <td>2</td>\n",
       "      <td>536847</td>\n",
       "      <td>34.0</td>\n",
       "    </tr>\n",
       "    <tr>\n",
       "      <th>239113</th>\n",
       "      <td>1335808</td>\n",
       "      <td>2</td>\n",
       "      <td>536848</td>\n",
       "      <td>29.0</td>\n",
       "    </tr>\n",
       "    <tr>\n",
       "      <th>239114</th>\n",
       "      <td>1335808</td>\n",
       "      <td>2</td>\n",
       "      <td>536849</td>\n",
       "      <td>29.0</td>\n",
       "    </tr>\n",
       "    <tr>\n",
       "      <th>239115</th>\n",
       "      <td>1335808</td>\n",
       "      <td>2</td>\n",
       "      <td>536850</td>\n",
       "      <td>33.0</td>\n",
       "    </tr>\n",
       "    <tr>\n",
       "      <th>239116</th>\n",
       "      <td>1335808</td>\n",
       "      <td>2</td>\n",
       "      <td>536851</td>\n",
       "      <td>39.0</td>\n",
       "    </tr>\n",
       "  </tbody>\n",
       "</table>\n",
       "<p>239117 rows × 4 columns</p>\n",
       "</div>"
      ],
      "text/plain": [
       "             id  innings  level_2  total_runs\n",
       "0       211028   1        245      0.0       \n",
       "1       211028   1        246      1.0       \n",
       "2       211028   1        247      1.0       \n",
       "3       211028   1        248      1.0       \n",
       "4       211028   1        249      1.0       \n",
       "...        ...  ..        ...      ...       \n",
       "239112  1335808  2        536847   34.0      \n",
       "239113  1335808  2        536848   29.0      \n",
       "239114  1335808  2        536849   29.0      \n",
       "239115  1335808  2        536850   33.0      \n",
       "239116  1335808  2        536851   39.0      \n",
       "\n",
       "[239117 rows x 4 columns]"
      ]
     },
     "execution_count": 25,
     "metadata": {},
     "output_type": "execute_result"
    }
   ],
   "source": [
    "tmp = df.groupby(['id', 'innings'])['total_runs'].rolling(min_periods = 1, window = 30).sum().reset_index()\n",
    "tmp"
   ]
  },
  {
   "cell_type": "code",
   "execution_count": 26,
   "id": "e1105b01",
   "metadata": {
    "scrolled": true
   },
   "outputs": [],
   "source": [
    "df['prev_30_runs'] = tmp['total_runs'].to_list()"
   ]
  },
  {
   "cell_type": "markdown",
   "id": "f929076a",
   "metadata": {},
   "source": [
    "### 3.2.9 Wickets fallen in previous 30 balls"
   ]
  },
  {
   "cell_type": "code",
   "execution_count": 27,
   "id": "daf40100",
   "metadata": {
    "scrolled": true
   },
   "outputs": [
    {
     "data": {
      "text/plain": [
       "array([0, 'GO Jones', 'A Flintoff', ..., 'CS Fraser', 'Nahida Akter',\n",
       "       'RS Gayakwad'], dtype=object)"
      ]
     },
     "execution_count": 27,
     "metadata": {},
     "output_type": "execute_result"
    }
   ],
   "source": [
    "df['player_dismissed'].unique()"
   ]
  },
  {
   "cell_type": "code",
   "execution_count": 28,
   "id": "11c3fd1a",
   "metadata": {},
   "outputs": [],
   "source": [
    "# If player_dismissed == 0, then 0 else 1\n",
    "df['player_dismissed'] = np.where(df['player_dismissed'] == 0, 0, 1)"
   ]
  },
  {
   "cell_type": "code",
   "execution_count": 29,
   "id": "3e087bb2",
   "metadata": {},
   "outputs": [
    {
     "data": {
      "text/plain": [
       "array([0, 1])"
      ]
     },
     "execution_count": 29,
     "metadata": {},
     "output_type": "execute_result"
    }
   ],
   "source": [
    "df['player_dismissed'].unique()"
   ]
  },
  {
   "cell_type": "code",
   "execution_count": 30,
   "id": "243aa428",
   "metadata": {
    "scrolled": true
   },
   "outputs": [],
   "source": [
    "tmp = df.groupby(['id', 'innings'])['player_dismissed'].rolling(min_periods = 1, window = 30).sum().reset_index()"
   ]
  },
  {
   "cell_type": "code",
   "execution_count": 31,
   "id": "57224eb6",
   "metadata": {
    "scrolled": true
   },
   "outputs": [],
   "source": [
    "df['prev_30_wickets'] = tmp['player_dismissed'].to_list()"
   ]
  },
  {
   "cell_type": "markdown",
   "id": "d65a4e9a",
   "metadata": {},
   "source": [
    "### 3.2.10 Wickets fallen till the current ball"
   ]
  },
  {
   "cell_type": "code",
   "execution_count": 32,
   "id": "aff35f75",
   "metadata": {},
   "outputs": [],
   "source": [
    "df['total_wickets'] = df.groupby(['id', 'innings'])['player_dismissed'].apply(lambda x: x.cumsum())"
   ]
  },
  {
   "cell_type": "markdown",
   "id": "0d9c81fa",
   "metadata": {},
   "source": [
    "### 3.2.11 Dot balls in previous 30 balls"
   ]
  },
  {
   "cell_type": "code",
   "execution_count": 33,
   "id": "479b8a23",
   "metadata": {},
   "outputs": [],
   "source": [
    "df['prev_30_dot_balls'] = df['total_runs']\n",
    "df['prev_30_dot_balls'] = np.where(df['prev_30_dot_balls'] == 0, 1, 0)\n",
    "\n",
    "tmp = df.groupby(['id', 'innings'])['prev_30_dot_balls'].rolling(min_periods = 1, window = 30).sum().reset_index()\n",
    "df['prev_30_dot_balls'] = tmp['prev_30_dot_balls'].to_list()"
   ]
  },
  {
   "cell_type": "markdown",
   "id": "4fe17a41",
   "metadata": {},
   "source": [
    "## 3.2.12 Boundaries in previous 30 balls"
   ]
  },
  {
   "cell_type": "code",
   "execution_count": 34,
   "id": "9edf3e4d",
   "metadata": {
    "scrolled": true
   },
   "outputs": [],
   "source": [
    "df['prev_30_boundaries'] = df['total_runs']\n",
    "df['prev_30_boundaries'] = np.where(df['prev_30_boundaries'] > 3, 1, 0)\n",
    "\n",
    "tmp = df.groupby(['id', 'innings'])['prev_30_boundaries'].rolling(min_periods = 1, window = 30).sum().reset_index()\n",
    "df['prev_30_boundaries'] = tmp['prev_30_boundaries'].to_list()"
   ]
  },
  {
   "cell_type": "markdown",
   "id": "1b46b4c1",
   "metadata": {},
   "source": [
    "### 3.2.13 Converting 'prev_30' fields to int"
   ]
  },
  {
   "cell_type": "code",
   "execution_count": 35,
   "id": "8383e4a8",
   "metadata": {
    "scrolled": true
   },
   "outputs": [],
   "source": [
    "convert_dict = {\n",
    "    'prev_30_runs':       int,\n",
    "    'prev_30_wickets':    int,\n",
    "    'prev_30_dot_balls':  int,\n",
    "    'prev_30_boundaries': int\n",
    "}\n",
    "\n",
    "df = df.astype(convert_dict)"
   ]
  },
  {
   "cell_type": "markdown",
   "id": "5748183f",
   "metadata": {},
   "source": [
    "### 3.2.14 Reordering the columns"
   ]
  },
  {
   "cell_type": "code",
   "execution_count": 36,
   "id": "60a6d46b",
   "metadata": {},
   "outputs": [
    {
     "data": {
      "text/plain": [
       "Index(['id', 'innings', 'batting_team', 'bowling_team', 'overs', 'over',\n",
       "       'ball', 'total_runs', 'player_dismissed', 'total', 'total_score',\n",
       "       'prev_30_runs', 'prev_30_wickets', 'total_wickets', 'prev_30_dot_balls',\n",
       "       'prev_30_boundaries'],\n",
       "      dtype='object')"
      ]
     },
     "execution_count": 36,
     "metadata": {},
     "output_type": "execute_result"
    }
   ],
   "source": [
    "df.columns"
   ]
  },
  {
   "cell_type": "code",
   "execution_count": 37,
   "id": "9e53c70e",
   "metadata": {
    "scrolled": true
   },
   "outputs": [
    {
     "data": {
      "text/html": [
       "<div>\n",
       "<style scoped>\n",
       "    .dataframe tbody tr th:only-of-type {\n",
       "        vertical-align: middle;\n",
       "    }\n",
       "\n",
       "    .dataframe tbody tr th {\n",
       "        vertical-align: top;\n",
       "    }\n",
       "\n",
       "    .dataframe thead th {\n",
       "        text-align: right;\n",
       "    }\n",
       "</style>\n",
       "<table border=\"1\" class=\"dataframe\">\n",
       "  <thead>\n",
       "    <tr style=\"text-align: right;\">\n",
       "      <th></th>\n",
       "      <th>id</th>\n",
       "      <th>innings</th>\n",
       "      <th>batting_team</th>\n",
       "      <th>bowling_team</th>\n",
       "      <th>overs</th>\n",
       "      <th>over</th>\n",
       "      <th>ball</th>\n",
       "      <th>total_runs</th>\n",
       "      <th>player_dismissed</th>\n",
       "      <th>total</th>\n",
       "      <th>total_score</th>\n",
       "      <th>total_wickets</th>\n",
       "      <th>prev_30_runs</th>\n",
       "      <th>prev_30_wickets</th>\n",
       "      <th>prev_30_dot_balls</th>\n",
       "      <th>prev_30_boundaries</th>\n",
       "    </tr>\n",
       "  </thead>\n",
       "  <tbody>\n",
       "    <tr>\n",
       "      <th>245</th>\n",
       "      <td>211028</td>\n",
       "      <td>1</td>\n",
       "      <td>England</td>\n",
       "      <td>Australia</td>\n",
       "      <td>0.1</td>\n",
       "      <td>0</td>\n",
       "      <td>1</td>\n",
       "      <td>0</td>\n",
       "      <td>0</td>\n",
       "      <td>179</td>\n",
       "      <td>0</td>\n",
       "      <td>0</td>\n",
       "      <td>0</td>\n",
       "      <td>0</td>\n",
       "      <td>1</td>\n",
       "      <td>0</td>\n",
       "    </tr>\n",
       "    <tr>\n",
       "      <th>246</th>\n",
       "      <td>211028</td>\n",
       "      <td>1</td>\n",
       "      <td>England</td>\n",
       "      <td>Australia</td>\n",
       "      <td>0.2</td>\n",
       "      <td>0</td>\n",
       "      <td>2</td>\n",
       "      <td>1</td>\n",
       "      <td>0</td>\n",
       "      <td>179</td>\n",
       "      <td>1</td>\n",
       "      <td>0</td>\n",
       "      <td>1</td>\n",
       "      <td>0</td>\n",
       "      <td>1</td>\n",
       "      <td>0</td>\n",
       "    </tr>\n",
       "    <tr>\n",
       "      <th>247</th>\n",
       "      <td>211028</td>\n",
       "      <td>1</td>\n",
       "      <td>England</td>\n",
       "      <td>Australia</td>\n",
       "      <td>0.3</td>\n",
       "      <td>0</td>\n",
       "      <td>3</td>\n",
       "      <td>0</td>\n",
       "      <td>0</td>\n",
       "      <td>179</td>\n",
       "      <td>1</td>\n",
       "      <td>0</td>\n",
       "      <td>1</td>\n",
       "      <td>0</td>\n",
       "      <td>2</td>\n",
       "      <td>0</td>\n",
       "    </tr>\n",
       "    <tr>\n",
       "      <th>248</th>\n",
       "      <td>211028</td>\n",
       "      <td>1</td>\n",
       "      <td>England</td>\n",
       "      <td>Australia</td>\n",
       "      <td>0.4</td>\n",
       "      <td>0</td>\n",
       "      <td>4</td>\n",
       "      <td>0</td>\n",
       "      <td>0</td>\n",
       "      <td>179</td>\n",
       "      <td>1</td>\n",
       "      <td>0</td>\n",
       "      <td>1</td>\n",
       "      <td>0</td>\n",
       "      <td>3</td>\n",
       "      <td>0</td>\n",
       "    </tr>\n",
       "    <tr>\n",
       "      <th>249</th>\n",
       "      <td>211028</td>\n",
       "      <td>1</td>\n",
       "      <td>England</td>\n",
       "      <td>Australia</td>\n",
       "      <td>0.5</td>\n",
       "      <td>0</td>\n",
       "      <td>5</td>\n",
       "      <td>0</td>\n",
       "      <td>0</td>\n",
       "      <td>179</td>\n",
       "      <td>1</td>\n",
       "      <td>0</td>\n",
       "      <td>1</td>\n",
       "      <td>0</td>\n",
       "      <td>4</td>\n",
       "      <td>0</td>\n",
       "    </tr>\n",
       "    <tr>\n",
       "      <th>250</th>\n",
       "      <td>211028</td>\n",
       "      <td>1</td>\n",
       "      <td>England</td>\n",
       "      <td>Australia</td>\n",
       "      <td>0.6</td>\n",
       "      <td>0</td>\n",
       "      <td>6</td>\n",
       "      <td>1</td>\n",
       "      <td>0</td>\n",
       "      <td>179</td>\n",
       "      <td>2</td>\n",
       "      <td>0</td>\n",
       "      <td>2</td>\n",
       "      <td>0</td>\n",
       "      <td>4</td>\n",
       "      <td>0</td>\n",
       "    </tr>\n",
       "    <tr>\n",
       "      <th>251</th>\n",
       "      <td>211028</td>\n",
       "      <td>1</td>\n",
       "      <td>England</td>\n",
       "      <td>Australia</td>\n",
       "      <td>0.7</td>\n",
       "      <td>0</td>\n",
       "      <td>7</td>\n",
       "      <td>2</td>\n",
       "      <td>0</td>\n",
       "      <td>179</td>\n",
       "      <td>4</td>\n",
       "      <td>0</td>\n",
       "      <td>4</td>\n",
       "      <td>0</td>\n",
       "      <td>4</td>\n",
       "      <td>0</td>\n",
       "    </tr>\n",
       "    <tr>\n",
       "      <th>252</th>\n",
       "      <td>211028</td>\n",
       "      <td>1</td>\n",
       "      <td>England</td>\n",
       "      <td>Australia</td>\n",
       "      <td>1.1</td>\n",
       "      <td>1</td>\n",
       "      <td>1</td>\n",
       "      <td>0</td>\n",
       "      <td>0</td>\n",
       "      <td>179</td>\n",
       "      <td>4</td>\n",
       "      <td>0</td>\n",
       "      <td>4</td>\n",
       "      <td>0</td>\n",
       "      <td>5</td>\n",
       "      <td>0</td>\n",
       "    </tr>\n",
       "    <tr>\n",
       "      <th>253</th>\n",
       "      <td>211028</td>\n",
       "      <td>1</td>\n",
       "      <td>England</td>\n",
       "      <td>Australia</td>\n",
       "      <td>1.2</td>\n",
       "      <td>1</td>\n",
       "      <td>2</td>\n",
       "      <td>0</td>\n",
       "      <td>0</td>\n",
       "      <td>179</td>\n",
       "      <td>4</td>\n",
       "      <td>0</td>\n",
       "      <td>4</td>\n",
       "      <td>0</td>\n",
       "      <td>6</td>\n",
       "      <td>0</td>\n",
       "    </tr>\n",
       "    <tr>\n",
       "      <th>254</th>\n",
       "      <td>211028</td>\n",
       "      <td>1</td>\n",
       "      <td>England</td>\n",
       "      <td>Australia</td>\n",
       "      <td>1.3</td>\n",
       "      <td>1</td>\n",
       "      <td>3</td>\n",
       "      <td>1</td>\n",
       "      <td>0</td>\n",
       "      <td>179</td>\n",
       "      <td>5</td>\n",
       "      <td>0</td>\n",
       "      <td>5</td>\n",
       "      <td>0</td>\n",
       "      <td>6</td>\n",
       "      <td>0</td>\n",
       "    </tr>\n",
       "    <tr>\n",
       "      <th>255</th>\n",
       "      <td>211028</td>\n",
       "      <td>1</td>\n",
       "      <td>England</td>\n",
       "      <td>Australia</td>\n",
       "      <td>1.4</td>\n",
       "      <td>1</td>\n",
       "      <td>4</td>\n",
       "      <td>0</td>\n",
       "      <td>0</td>\n",
       "      <td>179</td>\n",
       "      <td>5</td>\n",
       "      <td>0</td>\n",
       "      <td>5</td>\n",
       "      <td>0</td>\n",
       "      <td>7</td>\n",
       "      <td>0</td>\n",
       "    </tr>\n",
       "    <tr>\n",
       "      <th>256</th>\n",
       "      <td>211028</td>\n",
       "      <td>1</td>\n",
       "      <td>England</td>\n",
       "      <td>Australia</td>\n",
       "      <td>1.5</td>\n",
       "      <td>1</td>\n",
       "      <td>5</td>\n",
       "      <td>0</td>\n",
       "      <td>0</td>\n",
       "      <td>179</td>\n",
       "      <td>5</td>\n",
       "      <td>0</td>\n",
       "      <td>5</td>\n",
       "      <td>0</td>\n",
       "      <td>8</td>\n",
       "      <td>0</td>\n",
       "    </tr>\n",
       "    <tr>\n",
       "      <th>257</th>\n",
       "      <td>211028</td>\n",
       "      <td>1</td>\n",
       "      <td>England</td>\n",
       "      <td>Australia</td>\n",
       "      <td>1.6</td>\n",
       "      <td>1</td>\n",
       "      <td>6</td>\n",
       "      <td>0</td>\n",
       "      <td>0</td>\n",
       "      <td>179</td>\n",
       "      <td>5</td>\n",
       "      <td>0</td>\n",
       "      <td>5</td>\n",
       "      <td>0</td>\n",
       "      <td>9</td>\n",
       "      <td>0</td>\n",
       "    </tr>\n",
       "    <tr>\n",
       "      <th>258</th>\n",
       "      <td>211028</td>\n",
       "      <td>1</td>\n",
       "      <td>England</td>\n",
       "      <td>Australia</td>\n",
       "      <td>1.7</td>\n",
       "      <td>1</td>\n",
       "      <td>7</td>\n",
       "      <td>1</td>\n",
       "      <td>0</td>\n",
       "      <td>179</td>\n",
       "      <td>6</td>\n",
       "      <td>0</td>\n",
       "      <td>6</td>\n",
       "      <td>0</td>\n",
       "      <td>9</td>\n",
       "      <td>0</td>\n",
       "    </tr>\n",
       "    <tr>\n",
       "      <th>259</th>\n",
       "      <td>211028</td>\n",
       "      <td>1</td>\n",
       "      <td>England</td>\n",
       "      <td>Australia</td>\n",
       "      <td>2.1</td>\n",
       "      <td>2</td>\n",
       "      <td>1</td>\n",
       "      <td>4</td>\n",
       "      <td>0</td>\n",
       "      <td>179</td>\n",
       "      <td>10</td>\n",
       "      <td>0</td>\n",
       "      <td>10</td>\n",
       "      <td>0</td>\n",
       "      <td>9</td>\n",
       "      <td>1</td>\n",
       "    </tr>\n",
       "    <tr>\n",
       "      <th>260</th>\n",
       "      <td>211028</td>\n",
       "      <td>1</td>\n",
       "      <td>England</td>\n",
       "      <td>Australia</td>\n",
       "      <td>2.2</td>\n",
       "      <td>2</td>\n",
       "      <td>2</td>\n",
       "      <td>1</td>\n",
       "      <td>0</td>\n",
       "      <td>179</td>\n",
       "      <td>11</td>\n",
       "      <td>0</td>\n",
       "      <td>11</td>\n",
       "      <td>0</td>\n",
       "      <td>9</td>\n",
       "      <td>1</td>\n",
       "    </tr>\n",
       "    <tr>\n",
       "      <th>261</th>\n",
       "      <td>211028</td>\n",
       "      <td>1</td>\n",
       "      <td>England</td>\n",
       "      <td>Australia</td>\n",
       "      <td>2.3</td>\n",
       "      <td>2</td>\n",
       "      <td>3</td>\n",
       "      <td>0</td>\n",
       "      <td>0</td>\n",
       "      <td>179</td>\n",
       "      <td>11</td>\n",
       "      <td>0</td>\n",
       "      <td>11</td>\n",
       "      <td>0</td>\n",
       "      <td>10</td>\n",
       "      <td>1</td>\n",
       "    </tr>\n",
       "    <tr>\n",
       "      <th>262</th>\n",
       "      <td>211028</td>\n",
       "      <td>1</td>\n",
       "      <td>England</td>\n",
       "      <td>Australia</td>\n",
       "      <td>2.4</td>\n",
       "      <td>2</td>\n",
       "      <td>4</td>\n",
       "      <td>4</td>\n",
       "      <td>0</td>\n",
       "      <td>179</td>\n",
       "      <td>15</td>\n",
       "      <td>0</td>\n",
       "      <td>15</td>\n",
       "      <td>0</td>\n",
       "      <td>10</td>\n",
       "      <td>2</td>\n",
       "    </tr>\n",
       "    <tr>\n",
       "      <th>263</th>\n",
       "      <td>211028</td>\n",
       "      <td>1</td>\n",
       "      <td>England</td>\n",
       "      <td>Australia</td>\n",
       "      <td>2.5</td>\n",
       "      <td>2</td>\n",
       "      <td>5</td>\n",
       "      <td>4</td>\n",
       "      <td>0</td>\n",
       "      <td>179</td>\n",
       "      <td>19</td>\n",
       "      <td>0</td>\n",
       "      <td>19</td>\n",
       "      <td>0</td>\n",
       "      <td>10</td>\n",
       "      <td>3</td>\n",
       "    </tr>\n",
       "    <tr>\n",
       "      <th>264</th>\n",
       "      <td>211028</td>\n",
       "      <td>1</td>\n",
       "      <td>England</td>\n",
       "      <td>Australia</td>\n",
       "      <td>2.6</td>\n",
       "      <td>2</td>\n",
       "      <td>6</td>\n",
       "      <td>1</td>\n",
       "      <td>0</td>\n",
       "      <td>179</td>\n",
       "      <td>20</td>\n",
       "      <td>0</td>\n",
       "      <td>20</td>\n",
       "      <td>0</td>\n",
       "      <td>10</td>\n",
       "      <td>3</td>\n",
       "    </tr>\n",
       "    <tr>\n",
       "      <th>265</th>\n",
       "      <td>211028</td>\n",
       "      <td>1</td>\n",
       "      <td>England</td>\n",
       "      <td>Australia</td>\n",
       "      <td>3.1</td>\n",
       "      <td>3</td>\n",
       "      <td>1</td>\n",
       "      <td>0</td>\n",
       "      <td>0</td>\n",
       "      <td>179</td>\n",
       "      <td>20</td>\n",
       "      <td>0</td>\n",
       "      <td>20</td>\n",
       "      <td>0</td>\n",
       "      <td>11</td>\n",
       "      <td>3</td>\n",
       "    </tr>\n",
       "    <tr>\n",
       "      <th>266</th>\n",
       "      <td>211028</td>\n",
       "      <td>1</td>\n",
       "      <td>England</td>\n",
       "      <td>Australia</td>\n",
       "      <td>3.2</td>\n",
       "      <td>3</td>\n",
       "      <td>2</td>\n",
       "      <td>4</td>\n",
       "      <td>0</td>\n",
       "      <td>179</td>\n",
       "      <td>24</td>\n",
       "      <td>0</td>\n",
       "      <td>24</td>\n",
       "      <td>0</td>\n",
       "      <td>11</td>\n",
       "      <td>4</td>\n",
       "    </tr>\n",
       "    <tr>\n",
       "      <th>267</th>\n",
       "      <td>211028</td>\n",
       "      <td>1</td>\n",
       "      <td>England</td>\n",
       "      <td>Australia</td>\n",
       "      <td>3.3</td>\n",
       "      <td>3</td>\n",
       "      <td>3</td>\n",
       "      <td>4</td>\n",
       "      <td>0</td>\n",
       "      <td>179</td>\n",
       "      <td>28</td>\n",
       "      <td>0</td>\n",
       "      <td>28</td>\n",
       "      <td>0</td>\n",
       "      <td>11</td>\n",
       "      <td>5</td>\n",
       "    </tr>\n",
       "    <tr>\n",
       "      <th>268</th>\n",
       "      <td>211028</td>\n",
       "      <td>1</td>\n",
       "      <td>England</td>\n",
       "      <td>Australia</td>\n",
       "      <td>3.4</td>\n",
       "      <td>3</td>\n",
       "      <td>4</td>\n",
       "      <td>0</td>\n",
       "      <td>0</td>\n",
       "      <td>179</td>\n",
       "      <td>28</td>\n",
       "      <td>0</td>\n",
       "      <td>28</td>\n",
       "      <td>0</td>\n",
       "      <td>12</td>\n",
       "      <td>5</td>\n",
       "    </tr>\n",
       "    <tr>\n",
       "      <th>269</th>\n",
       "      <td>211028</td>\n",
       "      <td>1</td>\n",
       "      <td>England</td>\n",
       "      <td>Australia</td>\n",
       "      <td>3.5</td>\n",
       "      <td>3</td>\n",
       "      <td>5</td>\n",
       "      <td>0</td>\n",
       "      <td>1</td>\n",
       "      <td>179</td>\n",
       "      <td>28</td>\n",
       "      <td>1</td>\n",
       "      <td>28</td>\n",
       "      <td>1</td>\n",
       "      <td>13</td>\n",
       "      <td>5</td>\n",
       "    </tr>\n",
       "    <tr>\n",
       "      <th>270</th>\n",
       "      <td>211028</td>\n",
       "      <td>1</td>\n",
       "      <td>England</td>\n",
       "      <td>Australia</td>\n",
       "      <td>3.6</td>\n",
       "      <td>3</td>\n",
       "      <td>6</td>\n",
       "      <td>1</td>\n",
       "      <td>0</td>\n",
       "      <td>179</td>\n",
       "      <td>29</td>\n",
       "      <td>1</td>\n",
       "      <td>29</td>\n",
       "      <td>1</td>\n",
       "      <td>13</td>\n",
       "      <td>5</td>\n",
       "    </tr>\n",
       "    <tr>\n",
       "      <th>271</th>\n",
       "      <td>211028</td>\n",
       "      <td>1</td>\n",
       "      <td>England</td>\n",
       "      <td>Australia</td>\n",
       "      <td>4.1</td>\n",
       "      <td>4</td>\n",
       "      <td>1</td>\n",
       "      <td>1</td>\n",
       "      <td>0</td>\n",
       "      <td>179</td>\n",
       "      <td>30</td>\n",
       "      <td>1</td>\n",
       "      <td>30</td>\n",
       "      <td>1</td>\n",
       "      <td>13</td>\n",
       "      <td>5</td>\n",
       "    </tr>\n",
       "    <tr>\n",
       "      <th>272</th>\n",
       "      <td>211028</td>\n",
       "      <td>1</td>\n",
       "      <td>England</td>\n",
       "      <td>Australia</td>\n",
       "      <td>4.2</td>\n",
       "      <td>4</td>\n",
       "      <td>2</td>\n",
       "      <td>2</td>\n",
       "      <td>0</td>\n",
       "      <td>179</td>\n",
       "      <td>32</td>\n",
       "      <td>1</td>\n",
       "      <td>32</td>\n",
       "      <td>1</td>\n",
       "      <td>13</td>\n",
       "      <td>5</td>\n",
       "    </tr>\n",
       "    <tr>\n",
       "      <th>273</th>\n",
       "      <td>211028</td>\n",
       "      <td>1</td>\n",
       "      <td>England</td>\n",
       "      <td>Australia</td>\n",
       "      <td>4.3</td>\n",
       "      <td>4</td>\n",
       "      <td>3</td>\n",
       "      <td>4</td>\n",
       "      <td>0</td>\n",
       "      <td>179</td>\n",
       "      <td>36</td>\n",
       "      <td>1</td>\n",
       "      <td>36</td>\n",
       "      <td>1</td>\n",
       "      <td>13</td>\n",
       "      <td>6</td>\n",
       "    </tr>\n",
       "    <tr>\n",
       "      <th>274</th>\n",
       "      <td>211028</td>\n",
       "      <td>1</td>\n",
       "      <td>England</td>\n",
       "      <td>Australia</td>\n",
       "      <td>4.4</td>\n",
       "      <td>4</td>\n",
       "      <td>4</td>\n",
       "      <td>1</td>\n",
       "      <td>0</td>\n",
       "      <td>179</td>\n",
       "      <td>37</td>\n",
       "      <td>1</td>\n",
       "      <td>37</td>\n",
       "      <td>1</td>\n",
       "      <td>13</td>\n",
       "      <td>6</td>\n",
       "    </tr>\n",
       "    <tr>\n",
       "      <th>275</th>\n",
       "      <td>211028</td>\n",
       "      <td>1</td>\n",
       "      <td>England</td>\n",
       "      <td>Australia</td>\n",
       "      <td>4.5</td>\n",
       "      <td>4</td>\n",
       "      <td>5</td>\n",
       "      <td>1</td>\n",
       "      <td>0</td>\n",
       "      <td>179</td>\n",
       "      <td>38</td>\n",
       "      <td>1</td>\n",
       "      <td>38</td>\n",
       "      <td>1</td>\n",
       "      <td>12</td>\n",
       "      <td>6</td>\n",
       "    </tr>\n",
       "    <tr>\n",
       "      <th>276</th>\n",
       "      <td>211028</td>\n",
       "      <td>1</td>\n",
       "      <td>England</td>\n",
       "      <td>Australia</td>\n",
       "      <td>4.6</td>\n",
       "      <td>4</td>\n",
       "      <td>6</td>\n",
       "      <td>1</td>\n",
       "      <td>0</td>\n",
       "      <td>179</td>\n",
       "      <td>39</td>\n",
       "      <td>1</td>\n",
       "      <td>38</td>\n",
       "      <td>1</td>\n",
       "      <td>12</td>\n",
       "      <td>6</td>\n",
       "    </tr>\n",
       "    <tr>\n",
       "      <th>277</th>\n",
       "      <td>211028</td>\n",
       "      <td>1</td>\n",
       "      <td>England</td>\n",
       "      <td>Australia</td>\n",
       "      <td>4.7</td>\n",
       "      <td>4</td>\n",
       "      <td>7</td>\n",
       "      <td>1</td>\n",
       "      <td>0</td>\n",
       "      <td>179</td>\n",
       "      <td>40</td>\n",
       "      <td>1</td>\n",
       "      <td>39</td>\n",
       "      <td>1</td>\n",
       "      <td>11</td>\n",
       "      <td>6</td>\n",
       "    </tr>\n",
       "    <tr>\n",
       "      <th>278</th>\n",
       "      <td>211028</td>\n",
       "      <td>1</td>\n",
       "      <td>England</td>\n",
       "      <td>Australia</td>\n",
       "      <td>4.8</td>\n",
       "      <td>4</td>\n",
       "      <td>8</td>\n",
       "      <td>3</td>\n",
       "      <td>0</td>\n",
       "      <td>179</td>\n",
       "      <td>43</td>\n",
       "      <td>1</td>\n",
       "      <td>42</td>\n",
       "      <td>1</td>\n",
       "      <td>10</td>\n",
       "      <td>6</td>\n",
       "    </tr>\n",
       "    <tr>\n",
       "      <th>279</th>\n",
       "      <td>211028</td>\n",
       "      <td>1</td>\n",
       "      <td>England</td>\n",
       "      <td>Australia</td>\n",
       "      <td>5.1</td>\n",
       "      <td>5</td>\n",
       "      <td>1</td>\n",
       "      <td>1</td>\n",
       "      <td>0</td>\n",
       "      <td>179</td>\n",
       "      <td>44</td>\n",
       "      <td>1</td>\n",
       "      <td>43</td>\n",
       "      <td>1</td>\n",
       "      <td>9</td>\n",
       "      <td>6</td>\n",
       "    </tr>\n",
       "    <tr>\n",
       "      <th>280</th>\n",
       "      <td>211028</td>\n",
       "      <td>1</td>\n",
       "      <td>England</td>\n",
       "      <td>Australia</td>\n",
       "      <td>5.2</td>\n",
       "      <td>5</td>\n",
       "      <td>2</td>\n",
       "      <td>0</td>\n",
       "      <td>0</td>\n",
       "      <td>179</td>\n",
       "      <td>44</td>\n",
       "      <td>1</td>\n",
       "      <td>42</td>\n",
       "      <td>1</td>\n",
       "      <td>10</td>\n",
       "      <td>6</td>\n",
       "    </tr>\n",
       "    <tr>\n",
       "      <th>281</th>\n",
       "      <td>211028</td>\n",
       "      <td>1</td>\n",
       "      <td>England</td>\n",
       "      <td>Australia</td>\n",
       "      <td>5.3</td>\n",
       "      <td>5</td>\n",
       "      <td>3</td>\n",
       "      <td>4</td>\n",
       "      <td>0</td>\n",
       "      <td>179</td>\n",
       "      <td>48</td>\n",
       "      <td>1</td>\n",
       "      <td>44</td>\n",
       "      <td>1</td>\n",
       "      <td>10</td>\n",
       "      <td>7</td>\n",
       "    </tr>\n",
       "    <tr>\n",
       "      <th>282</th>\n",
       "      <td>211028</td>\n",
       "      <td>1</td>\n",
       "      <td>England</td>\n",
       "      <td>Australia</td>\n",
       "      <td>5.4</td>\n",
       "      <td>5</td>\n",
       "      <td>4</td>\n",
       "      <td>1</td>\n",
       "      <td>0</td>\n",
       "      <td>179</td>\n",
       "      <td>49</td>\n",
       "      <td>1</td>\n",
       "      <td>45</td>\n",
       "      <td>1</td>\n",
       "      <td>9</td>\n",
       "      <td>7</td>\n",
       "    </tr>\n",
       "    <tr>\n",
       "      <th>283</th>\n",
       "      <td>211028</td>\n",
       "      <td>1</td>\n",
       "      <td>England</td>\n",
       "      <td>Australia</td>\n",
       "      <td>5.5</td>\n",
       "      <td>5</td>\n",
       "      <td>5</td>\n",
       "      <td>0</td>\n",
       "      <td>1</td>\n",
       "      <td>179</td>\n",
       "      <td>49</td>\n",
       "      <td>2</td>\n",
       "      <td>45</td>\n",
       "      <td>2</td>\n",
       "      <td>9</td>\n",
       "      <td>7</td>\n",
       "    </tr>\n",
       "    <tr>\n",
       "      <th>284</th>\n",
       "      <td>211028</td>\n",
       "      <td>1</td>\n",
       "      <td>England</td>\n",
       "      <td>Australia</td>\n",
       "      <td>5.6</td>\n",
       "      <td>5</td>\n",
       "      <td>6</td>\n",
       "      <td>1</td>\n",
       "      <td>0</td>\n",
       "      <td>179</td>\n",
       "      <td>50</td>\n",
       "      <td>2</td>\n",
       "      <td>45</td>\n",
       "      <td>2</td>\n",
       "      <td>9</td>\n",
       "      <td>7</td>\n",
       "    </tr>\n",
       "  </tbody>\n",
       "</table>\n",
       "</div>"
      ],
      "text/plain": [
       "         id  innings batting_team bowling_team overs over ball  total_runs  player_dismissed  total  total_score  total_wickets  prev_30_runs  prev_30_wickets  prev_30_dot_balls  prev_30_boundaries\n",
       "245  211028  1        England      Australia    0.1   0    1    0           0                 179    0            0              0             0                1                  0                 \n",
       "246  211028  1        England      Australia    0.2   0    2    1           0                 179    1            0              1             0                1                  0                 \n",
       "247  211028  1        England      Australia    0.3   0    3    0           0                 179    1            0              1             0                2                  0                 \n",
       "248  211028  1        England      Australia    0.4   0    4    0           0                 179    1            0              1             0                3                  0                 \n",
       "249  211028  1        England      Australia    0.5   0    5    0           0                 179    1            0              1             0                4                  0                 \n",
       "250  211028  1        England      Australia    0.6   0    6    1           0                 179    2            0              2             0                4                  0                 \n",
       "251  211028  1        England      Australia    0.7   0    7    2           0                 179    4            0              4             0                4                  0                 \n",
       "252  211028  1        England      Australia    1.1   1    1    0           0                 179    4            0              4             0                5                  0                 \n",
       "253  211028  1        England      Australia    1.2   1    2    0           0                 179    4            0              4             0                6                  0                 \n",
       "254  211028  1        England      Australia    1.3   1    3    1           0                 179    5            0              5             0                6                  0                 \n",
       "255  211028  1        England      Australia    1.4   1    4    0           0                 179    5            0              5             0                7                  0                 \n",
       "256  211028  1        England      Australia    1.5   1    5    0           0                 179    5            0              5             0                8                  0                 \n",
       "257  211028  1        England      Australia    1.6   1    6    0           0                 179    5            0              5             0                9                  0                 \n",
       "258  211028  1        England      Australia    1.7   1    7    1           0                 179    6            0              6             0                9                  0                 \n",
       "259  211028  1        England      Australia    2.1   2    1    4           0                 179    10           0              10            0                9                  1                 \n",
       "260  211028  1        England      Australia    2.2   2    2    1           0                 179    11           0              11            0                9                  1                 \n",
       "261  211028  1        England      Australia    2.3   2    3    0           0                 179    11           0              11            0                10                 1                 \n",
       "262  211028  1        England      Australia    2.4   2    4    4           0                 179    15           0              15            0                10                 2                 \n",
       "263  211028  1        England      Australia    2.5   2    5    4           0                 179    19           0              19            0                10                 3                 \n",
       "264  211028  1        England      Australia    2.6   2    6    1           0                 179    20           0              20            0                10                 3                 \n",
       "265  211028  1        England      Australia    3.1   3    1    0           0                 179    20           0              20            0                11                 3                 \n",
       "266  211028  1        England      Australia    3.2   3    2    4           0                 179    24           0              24            0                11                 4                 \n",
       "267  211028  1        England      Australia    3.3   3    3    4           0                 179    28           0              28            0                11                 5                 \n",
       "268  211028  1        England      Australia    3.4   3    4    0           0                 179    28           0              28            0                12                 5                 \n",
       "269  211028  1        England      Australia    3.5   3    5    0           1                 179    28           1              28            1                13                 5                 \n",
       "270  211028  1        England      Australia    3.6   3    6    1           0                 179    29           1              29            1                13                 5                 \n",
       "271  211028  1        England      Australia    4.1   4    1    1           0                 179    30           1              30            1                13                 5                 \n",
       "272  211028  1        England      Australia    4.2   4    2    2           0                 179    32           1              32            1                13                 5                 \n",
       "273  211028  1        England      Australia    4.3   4    3    4           0                 179    36           1              36            1                13                 6                 \n",
       "274  211028  1        England      Australia    4.4   4    4    1           0                 179    37           1              37            1                13                 6                 \n",
       "275  211028  1        England      Australia    4.5   4    5    1           0                 179    38           1              38            1                12                 6                 \n",
       "276  211028  1        England      Australia    4.6   4    6    1           0                 179    39           1              38            1                12                 6                 \n",
       "277  211028  1        England      Australia    4.7   4    7    1           0                 179    40           1              39            1                11                 6                 \n",
       "278  211028  1        England      Australia    4.8   4    8    3           0                 179    43           1              42            1                10                 6                 \n",
       "279  211028  1        England      Australia    5.1   5    1    1           0                 179    44           1              43            1                9                  6                 \n",
       "280  211028  1        England      Australia    5.2   5    2    0           0                 179    44           1              42            1                10                 6                 \n",
       "281  211028  1        England      Australia    5.3   5    3    4           0                 179    48           1              44            1                10                 7                 \n",
       "282  211028  1        England      Australia    5.4   5    4    1           0                 179    49           1              45            1                9                  7                 \n",
       "283  211028  1        England      Australia    5.5   5    5    0           1                 179    49           2              45            2                9                  7                 \n",
       "284  211028  1        England      Australia    5.6   5    6    1           0                 179    50           2              45            2                9                  7                 "
      ]
     },
     "execution_count": 37,
     "metadata": {},
     "output_type": "execute_result"
    }
   ],
   "source": [
    "columns = ['id', 'innings', 'batting_team', 'bowling_team', 'overs','over', 'ball', 'total_runs', 'player_dismissed', 'total', 'total_score', 'total_wickets',\n",
    "'prev_30_runs', 'prev_30_wickets', 'prev_30_dot_balls', 'prev_30_boundaries']\n",
    "\n",
    "df = df[columns]\n",
    "\n",
    "df.head(40)"
   ]
  },
  {
   "cell_type": "markdown",
   "id": "bc53f6fa",
   "metadata": {},
   "source": [
    "# 4. Exporting the df"
   ]
  },
  {
   "cell_type": "code",
   "execution_count": 38,
   "id": "c01bfaa0",
   "metadata": {},
   "outputs": [],
   "source": [
    "df.to_csv('C:/Users/neera/Mad About Sports/Advanced Cricket Analytics Masterclass/Datasets/T20I_data_with_features.csv', index = None)"
   ]
  },
  {
   "cell_type": "code",
   "execution_count": null,
   "id": "6c9313e7",
   "metadata": {},
   "outputs": [],
   "source": []
  }
 ],
 "metadata": {
  "kernelspec": {
   "display_name": "Python 3",
   "language": "python",
   "name": "python3"
  },
  "language_info": {
   "codemirror_mode": {
    "name": "ipython",
    "version": 3
   },
   "file_extension": ".py",
   "mimetype": "text/x-python",
   "name": "python",
   "nbconvert_exporter": "python",
   "pygments_lexer": "ipython3",
   "version": "3.8.8"
  }
 },
 "nbformat": 4,
 "nbformat_minor": 5
}
